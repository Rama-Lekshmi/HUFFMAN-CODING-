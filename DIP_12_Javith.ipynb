{
  "nbformat": 4,
  "nbformat_minor": 0,
  "metadata": {
    "colab": {
      "provenance": []
    },
    "kernelspec": {
      "name": "python3",
      "display_name": "Python 3"
    },
    "language_info": {
      "name": "python"
    }
  },
  "cells": [
    {
      "cell_type": "code",
      "execution_count": 36,
      "metadata": {
        "colab": {
          "base_uri": "https://localhost:8080/"
        },
        "id": "nSKRXB8DREcC",
        "outputId": "7b0ac16c-1c30-4a8b-ec4e-dcce183f517a"
      },
      "outputs": [
        {
          "name": "stdout",
          "output_type": "stream",
          "text": [
            "Enter a stringJavith farkhan 212221240017\n"
          ]
        }
      ],
      "source": [
        "\n",
        "string=input(\"Enter a string\")\n"
      ]
    },
    {
      "cell_type": "code",
      "source": [
        "class NodeTree(object):\n",
        "  def __init__(self,left=None,right=None):\n",
        "    self.left=left\n",
        "    self.right=right\n",
        "  def children(self):\n",
        "    return(self.left,self.right)\n",
        "  \n"
      ],
      "metadata": {
        "id": "E1ndDqqxS07k"
      },
      "execution_count": 37,
      "outputs": []
    },
    {
      "cell_type": "code",
      "source": [
        "def huffman_code(Node,left=True,binstring=''):\n",
        "  if type(Node) is str:\n",
        "    return {Node: binstring}\n",
        "  (l,r) = Node.children()\n",
        "  d=dict()\n",
        "  d.update(huffman_code(l,True,binstring + '0'))\n",
        "  d.update(huffman_code(r,False,binstring + '1'))\n",
        "  return d"
      ],
      "metadata": {
        "id": "7cg0BgsPS1oH"
      },
      "execution_count": 38,
      "outputs": []
    },
    {
      "cell_type": "code",
      "source": [
        "freq={}\n",
        "for c in string:\n",
        "  if c in freq:\n",
        "    freq[c]+=1\n",
        "  else:\n",
        "    freq[c]=1\n",
        "freq=sorted(freq.items(),key = lambda x: x[1],reverse=True)\n",
        "Nodes=freq"
      ],
      "metadata": {
        "id": "5ai0QBiMTQgJ"
      },
      "execution_count": 39,
      "outputs": []
    },
    {
      "cell_type": "code",
      "source": [
        "while len(Nodes) >1:\n",
        "  (key1,c1) =Nodes[-1]\n",
        "  (key2,c2) =Nodes[-2]\n",
        "  Nodes=Nodes[:-2]\n",
        "  Node=NodeTree(key1,key2)\n",
        "  Nodes.append((Node,c1+c2))\n",
        "  Nodes=sorted(Nodes,key=lambda x: x[1],reverse=True)"
      ],
      "metadata": {
        "id": "CeNaT8vAU2bJ"
      },
      "execution_count": 40,
      "outputs": []
    },
    {
      "cell_type": "code",
      "source": [
        "huffmancode=huffman_code(Nodes[0][0])\n",
        "print('Char | Code')\n",
        "for (char,frequency) in freq:\n",
        "  print('%-4r |%12s' % (char, huffmancode[char]))\n"
      ],
      "metadata": {
        "colab": {
          "base_uri": "https://localhost:8080/"
        },
        "id": "fhYeZAikU6bK",
        "outputId": "4ea1737c-8aa2-4c2f-e058-30a9a1b36ae8"
      },
      "execution_count": 41,
      "outputs": [
        {
          "output_type": "stream",
          "name": "stdout",
          "text": [
            "Char | Code\n",
            "'2'  |          00\n",
            "'a'  |         011\n",
            "'1'  |         010\n",
            "'h'  |        1101\n",
            "' '  |        1100\n",
            "'0'  |        1111\n",
            "'J'  |       10101\n",
            "'v'  |       10100\n",
            "'i'  |       10111\n",
            "'t'  |       10110\n",
            "'f'  |       10001\n",
            "'r'  |       10000\n",
            "'k'  |       10011\n",
            "'n'  |       10010\n",
            "'4'  |       11101\n",
            "'7'  |       11100\n"
          ]
        }
      ]
    },
    {
      "cell_type": "code",
      "source": [],
      "metadata": {
        "id": "wPDQ4PBcW6L0"
      },
      "execution_count": null,
      "outputs": []
    }
  ]
}